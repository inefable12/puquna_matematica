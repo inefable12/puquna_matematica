{
  "nbformat": 4,
  "nbformat_minor": 0,
  "metadata": {
    "colab": {
      "provenance": [],
      "authorship_tag": "ABX9TyPCDXyuU3uHjn/eBWpUNmQ8",
      "include_colab_link": true
    },
    "kernelspec": {
      "name": "python3",
      "display_name": "Python 3"
    },
    "language_info": {
      "name": "python"
    }
  },
  "cells": [
    {
      "cell_type": "markdown",
      "metadata": {
        "id": "view-in-github",
        "colab_type": "text"
      },
      "source": [
        "<a href=\"https://colab.research.google.com/github/inefable12/puquna_matematica/blob/main/Planteo_de_ecuaciones.ipynb\" target=\"_parent\"><img src=\"https://colab.research.google.com/assets/colab-badge.svg\" alt=\"Open In Colab\"/></a>"
      ]
    },
    {
      "cell_type": "markdown",
      "source": [
        "$$\\Large \\textit{Puquna | Razonamiento matemático}$$\n",
        "$$\\large \\textbf{10/01/2024 | Planteo de ecuaciones}$$\n",
        "\n",
        "_Autor: Jesus Alvarado Huayhuaz_\n",
        "\n",
        "inefable12@gmail.com"
      ],
      "metadata": {
        "id": "_dZYC1dzP78V"
      }
    },
    {
      "cell_type": "markdown",
      "source": [
        "- En los siguientes ejercicios, plantea la ecuación para luego despejar la incógnita y finalmente imprime la solución.\n",
        "\n",
        "- En las 2 últimas celdas encontrarás un generador de ecuaciones que te ayudará a practicar y verificar tus resultados."
      ],
      "metadata": {
        "id": "U0RM2rVPP7i-"
      }
    },
    {
      "cell_type": "markdown",
      "source": [
        "## **Ejercicio 1**: El triple de un número aumentado en dos es veinte."
      ],
      "metadata": {
        "id": "-Ucb4qrLYzBt"
      }
    },
    {
      "cell_type": "code",
      "execution_count": 1,
      "metadata": {
        "colab": {
          "base_uri": "https://localhost:8080/"
        },
        "id": "FjID9ZANn8tk",
        "outputId": "5033d3af-c84b-40f4-971a-7b86a9746cb9"
      },
      "outputs": [
        {
          "output_type": "stream",
          "name": "stdout",
          "text": [
            "6.0\n"
          ]
        }
      ],
      "source": [
        "# Ecuación: 3x + 2 = 20\n",
        "\n",
        "# Solución:\n",
        "\n",
        "x = ( 20 - 2 ) / 3\n",
        "\n",
        "print(x)"
      ]
    },
    {
      "cell_type": "markdown",
      "source": [
        "## **Ejercicio 2**: El quintuple de un número disminuido en uno es veintinueve."
      ],
      "metadata": {
        "id": "sweMIBZuY_Sn"
      }
    },
    {
      "cell_type": "code",
      "source": [
        "# Ecuación: 5x-1=29\n",
        "\n",
        "# Solución:\n",
        "\n",
        "x=(29+1)/5\n",
        "\n",
        "print(x)"
      ],
      "metadata": {
        "id": "8vOesm1NsUkU",
        "colab": {
          "base_uri": "https://localhost:8080/"
        },
        "outputId": "8a7e22c6-dc14-4b91-fa5d-37fb542ff81f"
      },
      "execution_count": 2,
      "outputs": [
        {
          "output_type": "stream",
          "name": "stdout",
          "text": [
            "6.0\n"
          ]
        }
      ]
    },
    {
      "cell_type": "markdown",
      "source": [
        "## **Ejercicio 3**: El cuadruple de un número aumentado en dos es dieciocho"
      ],
      "metadata": {
        "id": "wifVpdQ8ZIz8"
      }
    },
    {
      "cell_type": "code",
      "source": [
        "# Ecuación: 4x+2=18\n",
        "\n",
        "# Solución:\n",
        "\n",
        "x=(18-2)/4\n",
        "\n",
        "print(x)"
      ],
      "metadata": {
        "id": "_MvDOB7JyI_v",
        "colab": {
          "base_uri": "https://localhost:8080/"
        },
        "outputId": "c73e0f94-7768-46bd-c59e-9ebbd1f8a68c"
      },
      "execution_count": 3,
      "outputs": [
        {
          "output_type": "stream",
          "name": "stdout",
          "text": [
            "4.0\n"
          ]
        }
      ]
    },
    {
      "cell_type": "markdown",
      "source": [
        "## **Ejercicio 4**: La suma de un número y su consecutivo es diecisiete"
      ],
      "metadata": {
        "id": "pRLR_DA6ZRnb"
      }
    },
    {
      "cell_type": "code",
      "source": [
        "# Ecuación: x+(x+1)=17\n",
        "\n",
        "# Solución:\n",
        "\n",
        "x=(17-1)/2\n",
        "\n",
        "print(x)"
      ],
      "metadata": {
        "id": "E1sXDHTNznIh",
        "colab": {
          "base_uri": "https://localhost:8080/"
        },
        "outputId": "3e76c5d5-0ea0-4626-b0dd-da225ec8f608"
      },
      "execution_count": 4,
      "outputs": [
        {
          "output_type": "stream",
          "name": "stdout",
          "text": [
            "8.0\n"
          ]
        }
      ]
    },
    {
      "cell_type": "markdown",
      "source": [
        "## **Ejercicio 5**: El triple de, un número aumentado en uno, es nueve."
      ],
      "metadata": {
        "id": "emz3vJJJapvC"
      }
    },
    {
      "cell_type": "code",
      "source": [
        "# Ecuación: 3(x + 1) = 9\n",
        "\n",
        "# Solución:\n",
        "\n",
        "x = 9 / 3 - 1\n",
        "\n",
        "print(x)"
      ],
      "metadata": {
        "id": "VGQD-8nb0tPh",
        "colab": {
          "base_uri": "https://localhost:8080/"
        },
        "outputId": "232eace6-7535-483c-dea7-f3fb2ef854de"
      },
      "execution_count": 5,
      "outputs": [
        {
          "output_type": "stream",
          "name": "stdout",
          "text": [
            "2.0\n"
          ]
        }
      ]
    },
    {
      "cell_type": "markdown",
      "source": [
        "## **Ejercicio 6**: La mitad de un número aumentado en cinco es once"
      ],
      "metadata": {
        "id": "-Kxlr6ePa-s2"
      }
    },
    {
      "cell_type": "code",
      "source": [
        "# Ecuación: x/2 + 5 = 11\n",
        "\n",
        "# Solución:\n",
        "\n",
        "x = (11 - 5) * 2\n",
        "\n",
        "print(x)"
      ],
      "metadata": {
        "colab": {
          "base_uri": "https://localhost:8080/"
        },
        "id": "Ay8aGR1Ta-M1",
        "outputId": "1f70a4d3-9c45-434f-aad0-9a2ec5657c2f"
      },
      "execution_count": 6,
      "outputs": [
        {
          "output_type": "stream",
          "name": "stdout",
          "text": [
            "12\n"
          ]
        }
      ]
    },
    {
      "cell_type": "markdown",
      "source": [
        "Ojo: En todos los ejercicios anteriores el resultado tiene un decimal, sin embargo, en el ejercicio #6 no ¿A qué se debe? ¿Tiene que ver con el lenguaje de programación Python, que estamos utilizando?"
      ],
      "metadata": {
        "id": "HNl-pWgOfGqr"
      }
    },
    {
      "cell_type": "markdown",
      "source": [
        "## **Ejercicio 7**: El doble de la suma de un número y 10 es 30."
      ],
      "metadata": {
        "id": "uXPKHrINb6FZ"
      }
    },
    {
      "cell_type": "code",
      "source": [
        "# Ecuación: 2(x + 10) = 30\n",
        "\n",
        "# Solución:\n",
        "\n",
        "x = 30/2 - 10"
      ],
      "metadata": {
        "id": "9DYMNy3Wb6FZ"
      },
      "execution_count": 7,
      "outputs": []
    },
    {
      "cell_type": "code",
      "source": [
        "print(x)"
      ],
      "metadata": {
        "colab": {
          "base_uri": "https://localhost:8080/"
        },
        "id": "J4TfxTp0e347",
        "outputId": "8ad1a1ee-5bf3-450a-a779-49663abac50d"
      },
      "execution_count": 8,
      "outputs": [
        {
          "output_type": "stream",
          "name": "stdout",
          "text": [
            "5.0\n"
          ]
        }
      ]
    },
    {
      "cell_type": "markdown",
      "source": [
        "## **Ejercicio 8**: Un número excede en 30 a la mitad del mismo número."
      ],
      "metadata": {
        "id": "iv9Md6wZb6Rx"
      }
    },
    {
      "cell_type": "code",
      "source": [
        "# Ecuación: x - 30 = x/2\n",
        "# ó\n",
        "# La diferencia entre un número y su mitad es 30\n",
        "# Ecuación: x - x/2 = 30\n",
        "\n",
        "# Solución:\n",
        "\n",
        "x = 30*2\n",
        "\n",
        "print(x)"
      ],
      "metadata": {
        "colab": {
          "base_uri": "https://localhost:8080/"
        },
        "id": "_X_VlXwQb6Ry",
        "outputId": "ebb3d29d-2eff-484a-ab78-634470440d3f"
      },
      "execution_count": 9,
      "outputs": [
        {
          "output_type": "stream",
          "name": "stdout",
          "text": [
            "60\n"
          ]
        }
      ]
    },
    {
      "cell_type": "markdown",
      "source": [
        "## **Ejercicio 9**: Pedro tiene el triple de lo que tiene Amelia y juntos tienen 400 soles"
      ],
      "metadata": {
        "id": "SYpp-Ytob6gv"
      }
    },
    {
      "cell_type": "code",
      "source": [
        "# Ecuación:\n",
        "# pedro = 3x\n",
        "# amelia = x\n",
        "# juntos = pedro + amelia = 400\n",
        "# 3x + x = 400\n",
        "\n",
        "# Solución:\n",
        "\n",
        "x = 400 / (3+1)\n",
        "\n",
        "print(x)"
      ],
      "metadata": {
        "colab": {
          "base_uri": "https://localhost:8080/"
        },
        "id": "gvosUXn4b6gw",
        "outputId": "f31a375c-4ca8-48a4-8c54-28edd0a6b2d6"
      },
      "execution_count": 10,
      "outputs": [
        {
          "output_type": "stream",
          "name": "stdout",
          "text": [
            "100.0\n"
          ]
        }
      ]
    },
    {
      "cell_type": "markdown",
      "source": [
        "## **Ejercicio 10**: Cada día gano 12 soles más que el día anterior, y en cuatro días gané en total 152 soles.\n",
        "\n"
      ],
      "metadata": {
        "id": "UXocVZEbb6qQ"
      }
    },
    {
      "cell_type": "code",
      "source": [
        "# Planteamiento:\n",
        "# Dinero que gano el primer día: x\n",
        "# Dinero que gano el segundo día: x + 12\n",
        "# Dinero que gano el tercer día: x + 24\n",
        "# Dinero que gano el cuarto día: x + 36\n",
        "\n",
        "# Es decir gané en total x + x+12 + x+24 + x+36\n",
        "# y esto equivale a 152, es decir\n",
        "\n",
        "# Ecuación: 4x + 72 = 152\n",
        "\n",
        "# Solución:\n",
        "\n",
        "x = (152 - 72) / 4"
      ],
      "metadata": {
        "id": "Em-cHsNcb6qR"
      },
      "execution_count": 11,
      "outputs": []
    },
    {
      "cell_type": "code",
      "source": [
        "# También puedes imprimir el resultado acompañado de un texto, así...\n",
        "\n",
        "print(f\"El primer día gané {x}\")"
      ],
      "metadata": {
        "colab": {
          "base_uri": "https://localhost:8080/"
        },
        "id": "pKWNyRoEdjA1",
        "outputId": "7cbd3439-da84-45d8-c7cf-bf3ed5a3e3be"
      },
      "execution_count": 12,
      "outputs": [
        {
          "output_type": "stream",
          "name": "stdout",
          "text": [
            "El primer día gané 20.0\n"
          ]
        }
      ]
    },
    {
      "cell_type": "markdown",
      "source": [
        "## **Generador de preguntas**"
      ],
      "metadata": {
        "id": "nIHC5RgJhv1o"
      }
    },
    {
      "cell_type": "code",
      "source": [
        "import random\n",
        "\n",
        "numero = random.randint(1, 10)  # Genera un número aleatorio entre 1 y 100\n",
        "\n",
        "def generar_pregunta():\n",
        "    operacion = random.choice([\"doble\", \"triple\", \"cuadruple\", \"quintuple\"])\n",
        "    diccionario = {\"doble\":2,\"triple\":3,\"cuadruple\":4,\"quintuple\":5}\n",
        "    accion = random.choice([\"aumentado\", \"disminuido\", \"multiplicado\", \"dividido\"])\n",
        "    diccionario2 = {\"aumentado\":\"+\", \"disminuido\":\"-\", \"multiplicado\":\"*\", \"dividido\":\"/\"}\n",
        "    factor = random.choice([2, 3, 4, 5])\n",
        "\n",
        "    # Calcula el resultado para la respuesta\n",
        "    if accion == \"aumentado\":\n",
        "        resultado = numero*diccionario[operacion]+factor\n",
        "    elif accion == \"disminuido\":\n",
        "        resultado = numero*diccionario[operacion]-factor\n",
        "    elif accion == \"multiplicado\":\n",
        "        resultado = numero*diccionario[operacion]*factor\n",
        "    elif accion == \"dividido\":\n",
        "        resultado = numero*diccionario[operacion]/factor\n",
        "\n",
        "    # Imprime la pregunta\n",
        "    print(f\"El {operacion} de un número {accion} en {factor} es {resultado}\")\n",
        "\n",
        "    mi_respuesta = int(input(\"¿Cuál es el número? \\n\\nTu respuesta es x=\"))\n",
        "\n",
        "    if mi_respuesta == numero:\n",
        "      print(\"Yabadaba-daba! ... es correcto\")\n",
        "    else:\n",
        "      print(f\"\\nPipipi... \\nPara la ecuación {diccionario[operacion]}x{diccionario2[accion]}{factor}={resultado} \\nEl valor de x es {numero}\")\n",
        "\n",
        "# Ejecuta la función para generar una pregunta aleatoria\n",
        "generar_pregunta()"
      ],
      "metadata": {
        "colab": {
          "base_uri": "https://localhost:8080/"
        },
        "id": "Z2N-MbGBl8ag",
        "outputId": "c6938298-7cb2-4398-ffd0-07695591af51"
      },
      "execution_count": 13,
      "outputs": [
        {
          "output_type": "stream",
          "name": "stdout",
          "text": [
            "El triple de un número aumentado en 5 es 23\n",
            "¿Cuál es el número? \n",
            "\n",
            "Tu respuesta es x=6\n",
            "Yabadaba-daba! ... es correcto\n"
          ]
        }
      ]
    },
    {
      "cell_type": "code",
      "source": [
        "# Genera otras preguntas\n",
        "generar_pregunta()"
      ],
      "metadata": {
        "colab": {
          "base_uri": "https://localhost:8080/"
        },
        "id": "qLgkMdWc1BS3",
        "outputId": "aec29028-e112-477f-8591-aa45d44d95cc"
      },
      "execution_count": 15,
      "outputs": [
        {
          "output_type": "stream",
          "name": "stdout",
          "text": [
            "El quintuple de un número disminuido en 4 es 26\n",
            "¿Cuál es el número? \n",
            "\n",
            "Tu respuesta es x=7\n",
            "\n",
            "Pipipi... \n",
            "Para la ecuación 5x-4=26 \n",
            "El valor de x es 6\n"
          ]
        }
      ]
    }
  ]
}